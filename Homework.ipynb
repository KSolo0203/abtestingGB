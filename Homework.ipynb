{
  "cells": [
    {
      "cell_type": "code",
      "execution_count": 2,
      "metadata": {
        "id": "ITXriGVs9eM4"
      },
      "outputs": [],
      "source": [
        "import pandas as pd"
      ]
    },
    {
      "cell_type": "code",
      "execution_count": 3,
      "metadata": {
        "colab": {
          "base_uri": "https://localhost:8080/"
        },
        "id": "UaVOwgN09cdw",
        "outputId": "5518a197-ce28-4935-99d0-14bb063e7fd6"
      },
      "outputs": [
        {
          "name": "stdout",
          "output_type": "stream",
          "text": [
            "Mounted at /content/drive\n"
          ]
        }
      ],
      "source": [
        "from google.colab import drive\n",
        "drive.mount('/content/drive')"
      ]
    },
    {
      "cell_type": "code",
      "execution_count": 4,
      "metadata": {
        "colab": {
          "base_uri": "https://localhost:8080/"
        },
        "id": "JD8xN2s-9fgz",
        "outputId": "26878153-dc15-4a17-f491-84936c44876b"
      },
      "outputs": [
        {
          "name": "stdout",
          "output_type": "stream",
          "text": [
            "<class 'pandas.core.frame.DataFrame'>\n",
            "RangeIndex: 90189 entries, 0 to 90188\n",
            "Data columns (total 5 columns):\n",
            " #   Column          Non-Null Count  Dtype \n",
            "---  ------          --------------  ----- \n",
            " 0   userid          90189 non-null  int64 \n",
            " 1   version         90189 non-null  object\n",
            " 2   sum_gamerounds  90189 non-null  int64 \n",
            " 3   retention_1     90189 non-null  int64 \n",
            " 4   retention_7     90189 non-null  int64 \n",
            "dtypes: int64(4), object(1)\n",
            "memory usage: 3.4+ MB\n"
          ]
        }
      ],
      "source": [
        "xlsx_path = '/content/drive/MyDrive/Учеба IT/AB-testingGB/Homework9/test_results.xlsx'\n",
        "data = pd.read_excel(xlsx_path)\n",
        "data.info()"
      ]
    },
    {
      "cell_type": "code",
      "execution_count": null,
      "metadata": {
        "colab": {
          "base_uri": "https://localhost:8080/"
        },
        "id": "qC7jvx7r-CGR",
        "outputId": "0e240019-3465-4209-e62f-c7aeeed4a72d"
      },
      "outputs": [
        {
          "data": {
            "text/plain": [
              "90189"
            ]
          },
          "execution_count": 6,
          "metadata": {},
          "output_type": "execute_result"
        }
      ],
      "source": [
        "len(data['userid'].unique()) # выборка 90189 юзеров, из них уникальных юзеров 90189, генеральная совокупность порядка 9999861 юзеров."
      ]
    },
    {
      "cell_type": "code",
      "execution_count": null,
      "metadata": {
        "colab": {
          "base_uri": "https://localhost:8080/"
        },
        "id": "p_kjUP0R_mrb",
        "outputId": "771e68c1-d704-493b-ccb9-c24d89a1caa8"
      },
      "outputs": [
        {
          "data": {
            "text/plain": [
              "array(['gate_30', 'gate_40'], dtype=object)"
            ]
          },
          "execution_count": 7,
          "metadata": {},
          "output_type": "execute_result"
        }
      ],
      "source": [
        "data['version'].unique() # играют в две разные версии"
      ]
    },
    {
      "cell_type": "code",
      "execution_count": null,
      "metadata": {
        "colab": {
          "base_uri": "https://localhost:8080/"
        },
        "id": "nr7KVHzG2Mbg",
        "outputId": "8c0ad6fa-9305-432a-d771-cedcb0d55c60"
      },
      "outputs": [
        {
          "data": {
            "text/plain": [
              "2640"
            ]
          },
          "execution_count": 31,
          "metadata": {},
          "output_type": "execute_result"
        }
      ],
      "source": [
        "data[(data['version'] == 'gate_30')]['sum_gamerounds'].max()\n",
        "# выборка группы A имеет 1 явный статистический выброс, превышающий матожидание почти в тысячу раз\n",
        "# избавимся от него с помощью булевой маски\n",
        "data[(data['version'] == 'gate_30') & (data['sum_gamerounds'] < 49000)]['sum_gamerounds'].max()\n",
        "# подобным образом проверяем группу B и не находим в ней таких отклонений"
      ]
    },
    {
      "cell_type": "code",
      "execution_count": 5,
      "metadata": {
        "id": "eM2sovrsuG32"
      },
      "outputs": [],
      "source": [
        "# import matplotlib.pyplot as plt\n",
        "import seaborn as sns"
      ]
    },
    {
      "cell_type": "code",
      "execution_count": 6,
      "metadata": {
        "id": "PIu7FJwWu-O2"
      },
      "outputs": [],
      "source": [
        "a_array = data[(data['version'] == 'gate_30') & (data['sum_gamerounds'] < 49000)]['sum_gamerounds'].values\n",
        "b_array = data[data['version'] == 'gate_40']['sum_gamerounds'].values"
      ]
    },
    {
      "cell_type": "code",
      "execution_count": 7,
      "metadata": {
        "colab": {
          "base_uri": "https://localhost:8080/",
          "height": 430
        },
        "id": "Sykje1p_umNg",
        "outputId": "bff25db5-6527-409c-8143-a9b458d79a68"
      },
      "outputs": [
        {
          "data": {
            "image/png": "[encoded data removed]",
            "text/plain": [
              "<Figure size 640x480 with 1 Axes>"
            ]
          },
          "metadata": {},
          "output_type": "display_data"
        }
      ],
      "source": [
        "# plt.figure(figsize=(5, 5))\n",
        "sns.violinplot([a_array, b_array], orient='h');"
      ]
    },
    {
      "cell_type": "code",
      "execution_count": null,
      "metadata": {
        "id": "liNVPJ8H45Th"
      },
      "outputs": [],
      "source": [
        "import scipy.stats as stats\n",
        "\n",
        "print(stats.kstest(a_array, 'expon').pvalue)\n",
        "# stats.kstest(a_array, 'norm')\n",
        "stats.kstest(b_array, 'expon').pvalue\n",
        "# stats.kstest(b_array, 'norm')"
      ]
    },
    {
      "cell_type": "markdown",
      "metadata": {
        "id": "aaR9BdYC7SRM"
      },
      "source": [
        "Нет, не экспоненциальное и не нормальное."
      ]
    },
    {
      "cell_type": "code",
      "execution_count": 9,
      "metadata": {
        "colab": {
          "base_uri": "https://localhost:8080/"
        },
        "id": "RfXkfAThAJrI",
        "outputId": "85135c2f-f17e-43ac-83d0-9cf5dc0ad07b"
      },
      "outputs": [
        {
          "data": {
            "text/plain": [
              "version  retention_7\n",
              "gate_30  0              36198\n",
              "         1               8502\n",
              "gate_40  0              37210\n",
              "         1               8279\n",
              "Name: retention_7, dtype: int64"
            ]
          },
          "execution_count": 9,
          "metadata": {},
          "output_type": "execute_result"
        }
      ],
      "source": [
        "# data['sum_gamerounds'].groupby(data['version']).describe()\n",
        "# data['retention_1'].groupby(data['version']).value_counts()\n",
        "data['retention_7'].groupby(data['version']).value_counts()"
      ]
    },
    {
      "cell_type": "markdown",
      "metadata": {
        "id": "8ih6VdOs4TFk"
      },
      "source": [
        "Группа А (gate_30):\n",
        "\n",
        "1. size=44700\n",
        "2. метрика \"Cыграно раундов всего\": min=0, max=49854, std=256.7, mean=52.45\n",
        "3. метрика \"Удержание 1 дня\": min=0, max=1, std=0.4973, mean=0.4481 (доля 20034/44700)\n",
        "4. метрика \"Удержание 7 дня\": min=0, max=1, std=0.3924, mean=0.1902 (доля 8502/44700)\n",
        "\n",
        "Группа B (gate_40):\n",
        "\n",
        "1. size=45489\n",
        "2. метрика \"Cыграно раундов всего\": min=0, max=2640, std=103.3, mean=51.3\n",
        "3. метрика \"Удержание 1 дня\": min=0, max=1, std=0.4966, mean=0.4423 (доля 20119/45489)\n",
        "4. метрика \"Удержание 7 дня\": min=0, max=1, std=0.3858, mean=0.182 (доля 8279/45489)"
      ]
    },
    {
      "cell_type": "markdown",
      "metadata": {
        "id": "ZZE9E7tPG6DZ"
      },
      "source": [
        "https://www.evanmiller.org/ab-testing/chi-squared.html\n",
        "\n",
        "Для alpha=0.05 статистически значимой разницы между группами в метрике \"Удержание 1 дня\" нет (p=0.074), а для метрики \"Удержание 7 дня\" выявлено статистически значимое ухудшение (p=0.00155).\n",
        "\n",
        "https://www.evanmiller.org/ab-testing/t-test.html\n",
        "\n",
        "Для alpha=0.05 статистически значимой разницы между группами в метрике \"Cыграно раундов всего\" нет (p=0.38).\n"
      ]
    },
    {
      "cell_type": "code",
      "execution_count": 19,
      "metadata": {
        "colab": {
          "base_uri": "https://localhost:8080/"
        },
        "id": "d417RKQb99ho",
        "outputId": "a3d4a54a-e788-4af2-f2cb-f8d26643e890"
      },
      "outputs": [
        {
          "data": {
            "text/plain": [
              "Ttest_indResult(statistic=0.0633675766982082, pvalue=0.9494739458256001)"
            ]
          },
          "execution_count": 19,
          "metadata": {},
          "output_type": "execute_result"
        }
      ],
      "source": [
        "a_array = data[(data['version'] == 'gate_30') & (data['sum_gamerounds'] < 49000)]['sum_gamerounds'].values\n",
        "b_array = data[data['version'] == 'gate_40']['sum_gamerounds'].values\n",
        "\n",
        "stats.ttest_ind(a_array, b_array)\n",
        "# по количеству сыгранных раундов статистически значимой разницы в тестируемых группах не выявлено и с помощью пакета для статанализа Python"
      ]
    },
    {
      "cell_type": "code",
      "execution_count": 20,
      "metadata": {
        "colab": {
          "base_uri": "https://localhost:8080/"
        },
        "id": "t-CleJCg-Q9c",
        "outputId": "eb2e1c08-5fef-4f51-e086-1d8832c4627a"
      },
      "outputs": [
        {
          "data": {
            "text/plain": [
              "Ttest_indResult(statistic=-1.787115337299244, pvalue=0.07392220630182521)"
            ]
          },
          "execution_count": 20,
          "metadata": {},
          "output_type": "execute_result"
        }
      ],
      "source": [
        "a_ret1_frac = data[(data['version'] == 'gate_30') & (data['sum_gamerounds'] < 49000)]['retention_1']\n",
        "b_ret1_frac = data[data['version'] == 'gate_40']['retention_1']\n",
        "\n",
        "stats.ttest_ind(b_ret1_frac, a_ret1_frac)\n",
        "# по удержанию 1 дня статистически значимой разницы в тестируемых группах также не выявлено"
      ]
    },
    {
      "cell_type": "code",
      "execution_count": 23,
      "metadata": {
        "colab": {
          "base_uri": "https://localhost:8080/"
        },
        "id": "VEk_8svx3flY",
        "outputId": "ed1e3684-f842-4b51-bf0c-0c93774d4ce5"
      },
      "outputs": [
        {
          "data": {
            "text/plain": [
              "Ttest_indResult(statistic=3.1575495965685936, pvalue=0.0015915357297854773)"
            ]
          },
          "execution_count": 23,
          "metadata": {},
          "output_type": "execute_result"
        }
      ],
      "source": [
        "a_ret7_frac = data[(data['version'] == 'gate_30') & (data['sum_gamerounds'] < 49000)]['retention_7']\n",
        "b_ret7_frac = data[data['version'] == 'gate_40']['retention_7']\n",
        "\n",
        "stats.ttest_ind(a_ret7_frac, b_ret7_frac)\n",
        "# подтверждаем, что ухудшение метрики (mean_A > mean_B), наблюдаемое в группе B, статистически значимо (p-value = 0.0016, что меньше 0.05)"
      ]
    },
    {
      "cell_type": "markdown",
      "metadata": {
        "id": "7JcRMb5U4DEY"
      },
      "source": [
        "На основании результатов статанализа A/B-теста необходимо дать менеджеру проекта следующую рекомендацию: нововведение распространять на весь продукт не надо, откатить до предыдущей версии там, где оно было внедрено."
      ]
    }
  ],
  "metadata": {
    "colab": {
      "provenance": []
    },
    "kernelspec": {
      "display_name": "Python 3.10.6 64-bit",
      "language": "python",
      "name": "python3"
    },
    "language_info": {
      "name": "python",
      "version": "3.10.6"
    },
    "vscode": {
      "interpreter": {
        "hash": "26de051ba29f2982a8de78e945f0abaf191376122a1563185a90213a26c5da77"
      }
    }
  },
  "nbformat": 4,
  "nbformat_minor": 0
}
